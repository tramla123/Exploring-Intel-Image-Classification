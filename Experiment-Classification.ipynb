{
 "cells": [
  {
   "cell_type": "code",
   "execution_count": 2,
   "id": "86a24d70",
   "metadata": {},
   "outputs": [],
   "source": [
    "import numpy as np\n",
    "import matplotlib.pyplot as plt\n",
    "\n",
    "import pandas as pd\n",
    "\n",
    "from sklearn.utils import shuffle\n",
    "from sklearn.neighbors import NearestCentroid, KNeighborsClassifier\n",
    "from sklearn.linear_model import LogisticRegression\n",
    "from sklearn.neural_network import MLPClassifier\n",
    "from sklearn.preprocessing import StandardScaler\n",
    "from sklearn.model_selection import train_test_split\n",
    "from sklearn.metrics import accuracy_score, confusion_matrix\n",
    "\n",
    "import seaborn as sns\n",
    "\n",
    "from keras.datasets import fashion_mnist\n",
    "from keras.utils.np_utils import to_categorical   \n",
    "\n",
    "import csv\n",
    "import os\n",
    "\n",
    "import warnings\n",
    "warnings.filterwarnings('ignore')\n",
    "\n",
    "seed = 1234\n",
    "np.random.seed(seed) "
   ]
  },
  {
   "cell_type": "code",
   "execution_count": 5,
   "id": "67a1f1c6",
   "metadata": {},
   "outputs": [],
   "source": [
    "## Image clean source: https://www.kaggle.com/code/uzairrj/beg-tut-intel-image-classification-93-76-accur\n",
    "\n",
    "def get_images(path):\n",
    "    IntelData, Labels = [], []\n",
    "    \n",
    "    for labels in os.listdir(path):\n",
    "        for image_file in os.listdir(path+labels):\n",
    "            image = cv2.imread(path+labels+r'/'+image_file)\n",
    "            image = cv2.resize(image,(150,150))\n",
    "            IntelData.append(image)\n",
    "            Labels.append(Word_to_Label[labels])\n",
    "    return shuffle(Images,Labels,random_state=seed)\n",
    "    \n",
    "def Label_to_Word(label):\n",
    "    label_dict = {0:\"buildings\", 1:\"forest\", 2:\"glacier\", 3:\"mountain\", 4:\"sea\", 5:\"street\"}\n",
    "    return label_dict[label]\n",
    "\n",
    "def Word_to_Label(word):\n",
    "    word_dict = {\"building\": 0, \"forest\":1, \"glacier\":2, \"mountain\":3, \"sea\":4, \"street\":5}\n",
    "    return word_dict[word]"
   ]
  },
  {
   "cell_type": "code",
   "execution_count": null,
   "id": "5047cee7",
   "metadata": {},
   "outputs": [],
   "source": []
  }
 ],
 "metadata": {
  "kernelspec": {
   "display_name": "Python 3 (ipykernel)",
   "language": "python",
   "name": "python3"
  },
  "language_info": {
   "codemirror_mode": {
    "name": "ipython",
    "version": 3
   },
   "file_extension": ".py",
   "mimetype": "text/x-python",
   "name": "python",
   "nbconvert_exporter": "python",
   "pygments_lexer": "ipython3",
   "version": "3.10.6"
  }
 },
 "nbformat": 4,
 "nbformat_minor": 5
}
